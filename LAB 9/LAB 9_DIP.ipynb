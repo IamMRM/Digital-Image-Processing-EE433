{
 "cells": [
  {
   "cell_type": "code",
   "execution_count": null,
   "metadata": {},
   "outputs": [],
   "source": [
    "import numpy as np\n",
    "from PIL import Image\n",
    "import PIL\n",
    "import itertools\n",
    "import math"
   ]
  },
  {
   "cell_type": "code",
   "execution_count": null,
   "metadata": {},
   "outputs": [],
   "source": [
    "def masking(I,mas):\n",
    "    k = int(mas.shape[0])/2\n",
    "    O = np.zeros(I.shape)\n",
    "    I = np.pad(I, k, mode='constant')\n",
    "    dem=0\n",
    "    for a,b in itertools.product(range(0,mas.shape[0]),range(0,mas.shape[1])):\n",
    "        dem+=mas[a][b]\n",
    "    \n",
    "    for x,y in itertools.product(range(k,I.shape[0] - k),range(k,I.shape[1] - k)):\n",
    "        temp=0\n",
    "        v=x-mas.shape[0]//2\n",
    "        u=y-mas.shape[1]//2\n",
    "        for a,b in itertools.product(range(0,mas.shape[0]),range(0,mas.shape[1])):\n",
    "            temp += I[v+a][u+b]*mas[a][b]\n",
    "        if dem ==0:\n",
    "            dem = 1\n",
    "        temp/=dem\n",
    "        O[x-k][y-k] =temp\n",
    "    #I = O[k:int(I.shape[0])-k,k:int(I.shape[1])-k]#slicing\n",
    "    return O"
   ]
  },
  {
   "cell_type": "code",
   "execution_count": null,
   "metadata": {},
   "outputs": [],
   "source": [
    "#TASK 1 PART 1\n",
    "I = np.asarray(PIL.Image.open('smoothing.tif'))\n",
    "mas = np.ones((3,3))#can also apply filter of any size\n",
    "I = masking(I,mas)\n",
    "im = Image.fromarray(I)\n",
    "im.show()"
   ]
  },
  {
   "cell_type": "code",
   "execution_count": null,
   "metadata": {},
   "outputs": [],
   "source": [
    "I = np.asarray(PIL.Image.open('smoothing.tif'))\n",
    "mas = np.ones((5,5))#can also apply filter of any size\n",
    "I = masking(I,mas)\n",
    "im = Image.fromarray(I)\n",
    "im.show()"
   ]
  },
  {
   "cell_type": "code",
   "execution_count": null,
   "metadata": {},
   "outputs": [],
   "source": [
    "I = np.asarray(PIL.Image.open('smoothing.tif'))\n",
    "mas = np.ones((15,15))#can also apply filter of any size\n",
    "I = masking(I,mas)\n",
    "im = Image.fromarray(I)\n",
    "im.show()"
   ]
  },
  {
   "cell_type": "code",
   "execution_count": null,
   "metadata": {},
   "outputs": [],
   "source": [
    "I = np.asarray(PIL.Image.open('smoothing.tif'))\n",
    "mas = np.ones((35,35))#can also apply filter of any size\n",
    "I = masking(I,mas)\n",
    "im = Image.fromarray(I)\n",
    "im.show()"
   ]
  },
  {
   "cell_type": "code",
   "execution_count": null,
   "metadata": {},
   "outputs": [],
   "source": [
    "#TASK 1 PART 2\n",
    "I = np.asarray(PIL.Image.open('smoothing.tif'))\n",
    "mas =np.array([[1,2,3],[2,4,2],[1,2,1]])\n",
    "I = masking(I,mas)\n",
    "im = Image.fromarray(I)\n",
    "im.show()"
   ]
  },
  {
   "cell_type": "code",
   "execution_count": null,
   "metadata": {},
   "outputs": [],
   "source": [
    "#Question: What do you observe when increasing the size of the filter and why?\n",
    "#Answer: By increasing the size of filter, I see there is more averaging taking place hence, the image is more smoothed. As\n",
    "#        we increase the neighbourhood, the no. of intensities are increased, hence, more the middle pixel intensity is most\n",
    "#        effected."
   ]
  },
  {
   "cell_type": "code",
   "execution_count": null,
   "metadata": {},
   "outputs": [],
   "source": [
    "#TASK 2\n",
    "I = np.asarray(PIL.Image.open('smoothing.tif'))\n",
    "gas =np.array([[1,1,2,2,2,1,1],[1,2,2,4,2,2,1],[2,2,4,8,4,2,2],[2,4,8,16,8,4,2],[2,2,4,8,4,2,2],[1,2,2,4,2,2,1],[1,1,2,2,2,1,1]])\n",
    "I = masking(I,gas)\n",
    "im = Image.fromarray(I)\n",
    "im.show()"
   ]
  },
  {
   "cell_type": "code",
   "execution_count": null,
   "metadata": {},
   "outputs": [],
   "source": [
    "#QUESTION: What impact do you think happen when the value of σ is increased?\n",
    "#ANSWER: As we increased the value of σ, the image blurrerness will increase. As it works like a low pass filter. By increasing\n",
    "#        the value of σ, we are increasing the values around the centre to pass through."
   ]
  },
  {
   "cell_type": "code",
   "execution_count": null,
   "metadata": {},
   "outputs": [],
   "source": [
    "#TASK 3\n",
    "I = np.asarray(PIL.Image.open('unsharpmasking.tif'))\n",
    "mas = np.ones((3,3))#avg filter\n",
    "I = masking(I,mas)\n",
    "L = np.asarray(PIL.Image.open('unsharpmasking.tif'))\n",
    "diff= L-I\n",
    "L = L+diff\n",
    "im = Image.fromarray(L)\n",
    "im.show()"
   ]
  },
  {
   "cell_type": "code",
   "execution_count": null,
   "metadata": {},
   "outputs": [],
   "source": [
    "#now using Gausian filter\n",
    "I = np.asarray(PIL.Image.open('unsharpmasking.tif'))\n",
    "I = masking(I,gas)\n",
    "L = np.asarray(PIL.Image.open('unsharpmasking.tif'))\n",
    "diff= L-I\n",
    "L = L+diff\n",
    "im = Image.fromarray(L)\n",
    "im.show()"
   ]
  },
  {
   "cell_type": "code",
   "execution_count": null,
   "metadata": {},
   "outputs": [],
   "source": [
    "#TASK 4\n",
    "def medianfilter(I,mas):\n",
    "    k = int(mas.shape[0])/2\n",
    "    window = np.zeros(mas.size)\n",
    "    O = np.zeros(I.shape)\n",
    "    I = np.pad(I, k, mode='constant')\n",
    "    dem=0\n",
    "    for a,b in itertools.product(range(0,mas.shape[0]),range(0,mas.shape[1])):\n",
    "        dem+=mas[a][b]\n",
    "    \n",
    "    for x,y in itertools.product(range(k,I.shape[0] - k),range(k,I.shape[1] - k)):\n",
    "        temp=0\n",
    "        v=x-mas.shape[0]//2\n",
    "        u=y-mas.shape[1]//2\n",
    "        i=0\n",
    "        for a,b in itertools.product(range(0,mas.shape[0]),range(0,mas.shape[1])):\n",
    "            window[i] = I[v+a][u+b]\n",
    "            i=i+1\n",
    "        window.sort()\n",
    "        O[x-k][y-k] =window[(int(mas.shape[0])*int(mas.shape[1]))/2]\n",
    "    #I = I[k:int(I.shape[0])-k,k:int(I.shape[1])-k]#slicing\n",
    "    return O\n",
    "\n",
    "I = np.asarray(PIL.Image.open('saltandpaper.tif'))\n",
    "mas = np.ones((5,5))#here this is only used for getting the size of the median filter\n",
    "I = medianfilter(I,mas)\n",
    "im = Image.fromarray(I)\n",
    "im.show()"
   ]
  },
  {
   "cell_type": "code",
   "execution_count": null,
   "metadata": {},
   "outputs": [],
   "source": [
    "#QUESTION: Which filtering approach do you consider will suit best to remove the said noise?\n",
    "#ANSWER:For removing noice, we use median filter as it takes the middle value from the given mask(computed from neighbours),\n",
    "#        and assigns the new value which is the centre value of the mask. So hence, noice could easily be removed from this."
   ]
  },
  {
   "cell_type": "code",
   "execution_count": null,
   "metadata": {},
   "outputs": [],
   "source": [
    "#TASK5\n",
    "sobelx= np.array([[-1,0,1],[-2,0,2],[-1,0,1]])\n",
    "sobely= np.array([[-1,-2,-1],[0,0,0],[1,2,1]])\n",
    "I = np.asarray(PIL.Image.open('two_cats.jpg').convert('L'))\n",
    "X = masking(I,sobelx)\n",
    "Y = masking(I,sobely)\n",
    "I = np.sqrt((X**2) + (Y**2))\n",
    "im = Image.fromarray(I)\n",
    "im.show()"
   ]
  },
  {
   "cell_type": "code",
   "execution_count": null,
   "metadata": {},
   "outputs": [],
   "source": [
    "#END"
   ]
  }
 ],
 "metadata": {
  "kernelspec": {
   "display_name": "Python 2",
   "language": "python",
   "name": "python2"
  },
  "language_info": {
   "codemirror_mode": {
    "name": "ipython",
    "version": 2
   },
   "file_extension": ".py",
   "mimetype": "text/x-python",
   "name": "python",
   "nbconvert_exporter": "python",
   "pygments_lexer": "ipython2",
   "version": "2.7.15"
  }
 },
 "nbformat": 4,
 "nbformat_minor": 2
}
